{
 "cells": [
  {
   "cell_type": "code",
   "execution_count": 1,
   "metadata": {},
   "outputs": [],
   "source": [
    "# --- Import the required modules:\n",
    "import pandas as pd\n",
    "\n",
    "# --- Set pandas to show only two digits after the decimal:\n",
    "pd.options.display.float_format = '{:,.2f}'.format\n",
    "\n",
    "# --- Import the CSV file data into a panda dataframe:\n",
    "df = pd.read_csv(\"degree-data.csv\")"
   ]
  },
  {
   "cell_type": "code",
   "execution_count": null,
   "metadata": {},
   "outputs": [],
   "source": [
    "# --- To remove any rows with NaN cells, you can use dropna() or delete the row index number:\n",
    "# --- Creates a new variable with the updated dataframe in:\n",
    "clean_df = df.dropna()\n",
    "clean_df.tail()"
   ]
  },
  {
   "cell_type": "code",
   "execution_count": null,
   "metadata": {},
   "outputs": [],
   "source": [
    "# --- Show highest Mid-Career Median Salary:\n",
    "clean_df[\"Mid-Career Median Salary\"].max()"
   ]
  },
  {
   "cell_type": "code",
   "execution_count": null,
   "metadata": {},
   "outputs": [],
   "source": [
    "# --- Show the row for the highest Mid-Career Median Salary:\n",
    "max_salary_id = clean_df['Mid-Career Median Salary'].idxmax()\n",
    "clean_df.loc[max_salary_id]"
   ]
  },
  {
   "cell_type": "code",
   "execution_count": null,
   "metadata": {},
   "outputs": [],
   "source": [
    "# --- Show lowest Mid-Career Median Salary:\n",
    "clean_df[\"Mid-Career Median Salary\"].min()"
   ]
  },
  {
   "cell_type": "code",
   "execution_count": 9,
   "metadata": {},
   "outputs": [
    {
     "data": {
      "text/plain": [
       "Undergraduate Major                  Education\n",
       "Starting Median Salary                 34900.0\n",
       "Mid-Career Median Salary               52000.0\n",
       "Mid-Career 10th Percentile Salary      29300.0\n",
       "Mid-Career 90th Percentile Salary     102000.0\n",
       "Group                                     HASS\n",
       "Name: 18, dtype: object"
      ]
     },
     "execution_count": 9,
     "metadata": {},
     "output_type": "execute_result"
    }
   ],
   "source": [
    "# --- Show the row for the lowest Mid-Career Median Salary:\n",
    "lowest_salary_id = clean_df['Mid-Career Median Salary'].idxmin()\n",
    "clean_df.loc[lowest_salary_id]"
   ]
  }
 ],
 "metadata": {
  "interpreter": {
   "hash": "7e85ec9bf098c5427e45e2f632dcd4eeff803b007e1abd287d600879388709c1"
  },
  "kernelspec": {
   "display_name": "Python 3.8.13 64-bit",
   "language": "python",
   "name": "python3"
  },
  "language_info": {
   "codemirror_mode": {
    "name": "ipython",
    "version": 3
   },
   "file_extension": ".py",
   "mimetype": "text/x-python",
   "name": "python",
   "nbconvert_exporter": "python",
   "pygments_lexer": "ipython3",
   "version": "3.8.13"
  },
  "orig_nbformat": 4
 },
 "nbformat": 4,
 "nbformat_minor": 2
}
